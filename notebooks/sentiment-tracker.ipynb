{
 "cells": [
  {
   "cell_type": "markdown",
   "metadata": {},
   "source": [
    "# Slang Translator"
   ]
  },
  {
   "cell_type": "code",
   "execution_count": 1,
   "metadata": {},
   "outputs": [],
   "source": [
    "import pandas as pd\n",
    "import os"
   ]
  },
  {
   "cell_type": "code",
   "execution_count": 2,
   "metadata": {},
   "outputs": [],
   "source": [
    "current_directory = os.path.realpath('data.py')\n",
    "parent_directory = parent_directory = os.path.dirname(current_directory)\n"
   ]
  },
  {
   "cell_type": "code",
   "execution_count": 3,
   "metadata": {},
   "outputs": [],
   "source": [
    "class ImportData:\n",
    "\n",
    "    def __ini__(self):\n",
    "        self.current_directory = current_directory\n",
    "        self.parent_directory = parent_directory\n",
    "\n",
    "    def abbreviations():\n",
    "\n",
    "        data_abbreviations = pd.read_csv(os.path.join(parent_directory,'..','..' ,'live-sentiment-tracker', 'data_raw','Abbreviations_and_Slang.csv'))\n",
    "\n",
    "        return data_abbreviations\n",
    "\n",
    "    def slangs():\n",
    "\n",
    "        data_slangs = pd.read_csv(os.path.join(parent_directory,'..','..', 'live-sentiment-tracker','data_raw','slang.csv'))[['acronym', 'expansion']]\n",
    "\n",
    "        return data_slangs"
   ]
  },
  {
   "cell_type": "code",
   "execution_count": 4,
   "metadata": {},
   "outputs": [],
   "source": [
    "data_abbreviations = ImportData.abbreviations()\n",
    "data_slangs = ImportData.slangs()"
   ]
  },
  {
   "cell_type": "code",
   "execution_count": 25,
   "metadata": {},
   "outputs": [],
   "source": [
    "remove_list = [\n",
    "    25, 35, 65, 63, 0, 165, 1982,\n",
    "    75, 1, 2495, 90, 216, 11, 251,\n",
    "    106, 5, 279, 12, 311, 368, 24,\n",
    "    437, 36, 453, 476, 50, 512, 611,\n",
    "    621, 43, 78, 684, 721, 744, 100,\n",
    "    102, 747, 810, 53, 17, 888, 120,\n",
    "    941, 984, 1023, 62, 1100, 141,\n",
    "    1237, 171, 1712, 1727, 1732, 173,\n",
    "    1767, 175, 1845, 178, 1934, 75,\n",
    "    1982, 2062, 2134, 78, 188, 2138,\n",
    "    2198, 82, 83, 2215, 196, 2230,\n",
    "    84, 2236, 2237, 2332, 2392, 233,\n",
    "    2753, 3019, 3158, 3159, 3160,\n",
    "    3227, 3279, 979, 138, 2633, 16,\n",
    "    42, 44, 67, 128, 157, 158, 241,\n",
    "    305, 306, 315, 342, 381, 388,\n",
    "    392, 394, 413, 452, 456, 526,\n",
    "    560, 561, 599, 662, 669, 727,\n",
    "    768, 789, 838, 954, 963, 964,\n",
    "    992, 1011, 1076, 1183, 1278,\n",
    "    1303, 1359, 1366, 1372, 1429,\n",
    "    1463, 1462, 1483, 1493, 1569,\n",
    "    1662, 1693, 1737, 1741, 1742,\n",
    "    1747, 1754, 1769, 1785, 1804,\n",
    "    1822, 1829, 1858, 1869, 2002,\n",
    "    2051, 2114, 2153, 2183, 2203,\n",
    "    2287, 2372, 2391, 2406, 2415,\n",
    "    2421, 2422, 2437, 2492, 2513,\n",
    "    2558, 2565, 2718, 2835, 2836,\n",
    "    2850, 2930, 2960, 3026, 3027,\n",
    "    3085, 3116, 3350, 101, 156,\n",
    "    193, 297, 303, 357, 367, 401,\n",
    "    481, 518, 531, 551, 567, 601,\n",
    "    631, 720, 728, 759, 764, 880,\n",
    "    889, 895, 901, 913, 939, 1108,\n",
    "    1277, 1276, 1306, 1362, 1371,\n",
    "    1529, 1541, 1698, 1815, 1892,\n",
    "    1919, 1938, 1957, 1961, 2015,\n",
    "    2071, 2100, 2106, 2126, 2142,\n",
    "    2146, 2184, 2186, 2239, 2249,\n",
    "    2327, 2363, 2375, 2439, 2443,\n",
    "    2482, 2487, 2493, 3311, 3306,\n",
    "    3239, 3202, 3194, 3148, 3142,\n",
    "    3100, 2962, 2961, 2944, 2939,\n",
    "    2940, 2904, 2851, 2844, 2833,\n",
    "    2755, 2720, 2714, 2704, 2456,\n",
    "    2697, 2687, 2674, 2675,2673 ,\n",
    "    2619, 2592, 2589, 2584, 2568,\n",
    "    2566, 2526, 2453, 2455, 13, 15,\n",
    "    55, 71, 99, 174, 179, 198, 288,\n",
    "    290, 448, 654, 656, 678, 742,\n",
    "]"
   ]
  },
  {
   "cell_type": "code",
   "execution_count": 27,
   "metadata": {},
   "outputs": [
    {
     "name": "stdout",
     "output_type": "stream",
     "text": [
      "Data + Slang full dataset shape: (2994, 2)\n",
      "Data + Slang full dataset null: 0\n",
      "Data + Slang full dataset duplicates: 0\n"
     ]
    },
    {
     "name": "stderr",
     "output_type": "stream",
     "text": [
      "/tmp/ipykernel_223352/771183191.py:14: FutureWarning: Series.__getitem__ treating keys as positions is deprecated. In a future version, integer keys will always be treated as labels (consistent with DataFrame behavior). To access a value by position, use `ser.iloc[pos]`\n",
      "  print(f'Data + Slang full dataset null: {data_slang_all.isnull().sum()[0]}')\n"
     ]
    }
   ],
   "source": [
    "# Concatenating slang and abbreviation datasets\n",
    "data_slangs.rename(columns = {'acronym':'Abbreviations','expansion':'Text'}, inplace = True)\n",
    "data_slang_all = pd.concat([data_abbreviations , data_slangs], axis=0)\n",
    "\n",
    "# Drop duplicates and null values\n",
    "data_slang_all.drop_duplicates(inplace=True)\n",
    "data_slang_all.dropna\n",
    "\n",
    "# Drop significant rows\n",
    "data_slang_all.drop(axis=0, labels=remove_list, inplace=True)\n",
    "\n",
    "# Checking\n",
    "print(f'Data + Slang full dataset shape: {data_slang_all.shape}')\n",
    "print(f'Data + Slang full dataset null: {data_slang_all.isnull().sum()[0]}')\n",
    "print(f'Data + Slang full dataset duplicates: {data_slang_all.duplicated().sum()}')"
   ]
  },
  {
   "cell_type": "code",
   "execution_count": 28,
   "metadata": {},
   "outputs": [],
   "source": [
    "data_slang_all.to_csv('data_slang_all.csv')"
   ]
  },
  {
   "cell_type": "code",
   "execution_count": 29,
   "metadata": {},
   "outputs": [],
   "source": [
    "# Transforming DF into dict for mapping\n",
    "slang_dict = dict(zip(data_slang_all.Abbreviations, data_slang_all.Text))"
   ]
  },
  {
   "cell_type": "code",
   "execution_count": 30,
   "metadata": {},
   "outputs": [],
   "source": [
    "data_abbreviations_dict = dict(zip(data_abbreviations.Abbreviations, data_abbreviations.Text))"
   ]
  },
  {
   "cell_type": "code",
   "execution_count": 31,
   "metadata": {},
   "outputs": [],
   "source": [
    "import string\n",
    "\n",
    "class SlangTranslation:\n",
    "\n",
    "  def __init__(self, sentence):\n",
    "\n",
    "    self.sentence = sentence\n",
    "\n",
    "  def remove_punctuation(self, sentence):\n",
    "    \"\"\"Iterates through each word of the string and removes punctuation\"\"\"\n",
    "    for punctuation in string.punctuation:\n",
    "        sentence = sentence.replace(punctuation, '')\n",
    "\n",
    "    return sentence\n",
    "\n",
    "  def string_translator(self, sentence):\n",
    "    \"\"\"Iterates through each word of the string and translates them\"\"\"\n",
    "\n",
    "    sentence = ' '.join([slang_dict.get(i, i) for i in sentence.split()])\n",
    "\n",
    "    return sentence\n",
    "\n",
    "  def apply_translator(self, sentence):\n",
    "    \"\"\"Takes the text column as input, outputs the same column translated.\"\"\"\n",
    "\n",
    "    sentence = self.remove_punctuation(sentence)\n",
    "\n",
    "    sentence = self.string_translator(sentence)\n",
    "\n",
    "    return sentence"
   ]
  },
  {
   "cell_type": "markdown",
   "metadata": {},
   "source": [
    "# Model"
   ]
  },
  {
   "cell_type": "markdown",
   "metadata": {},
   "source": [
    "## Vader (return overall sentiment)"
   ]
  },
  {
   "cell_type": "code",
   "execution_count": 36,
   "metadata": {},
   "outputs": [],
   "source": [
    "from vaderSentiment.vaderSentiment import SentimentIntensityAnalyzer\n",
    "\n",
    "def vader(sentence):\n",
    "    \"\"\"\n",
    "    Function to print sentiment and return overall sentiment\n",
    "    \"\"\"\n",
    "    # Instanciating SentimentIntensityAnalyzer object\n",
    "    vader_model = SentimentIntensityAnalyzer()\n",
    "    sentence = SlangTranslation(sentence).apply_translator(sentence)\n",
    "    # Creating sentiment dict from vader model\n",
    "    sentiment_dict = vader_model.polarity_scores(sentence)\n",
    "\n",
    "    # Printing sentiment percentage\n",
    "    print(f'Sentence: \"{sentence}\"')\n",
    "    print(f\"This sentence is: {sentiment_dict['pos']*100} % positive\")\n",
    "    print(f\"{sentiment_dict['neu']*100} % neutral\")\n",
    "    print(f\"{sentiment_dict['neg']*100} % negative\")\n",
    "\n",
    "    # Conditional to return overall sentiment of the sentence\n",
    "    if sentiment_dict['compound'] >= 0.05:\n",
    "        overall_sentiment = 'The overall sentiment is Positive 😊'\n",
    "        return overall_sentiment\n",
    "\n",
    "    if sentiment_dict['compound'] <= -0.05:\n",
    "        overall_sentiment = 'The overall sentiment is Negative 😔'\n",
    "        return overall_sentiment\n",
    "\n",
    "    else:\n",
    "        overall_sentiment = 'The overall sentiment is Neutral 😐'\n",
    "        return overall_sentiment\n"
   ]
  },
  {
   "cell_type": "markdown",
   "metadata": {},
   "source": [
    "## Vader (return vader scores)"
   ]
  },
  {
   "cell_type": "code",
   "execution_count": 39,
   "metadata": {},
   "outputs": [
    {
     "name": "stdout",
     "output_type": "stream",
     "text": [
      "This sentence is: 58.3 % positive\n",
      "41.699999999999996 % neutral\n",
      "0.0 % negative\n",
      "The overall sentiment is Positive 😊\n"
     ]
    }
   ],
   "source": [
    "\n",
    "def vader_scores(sentence):\n",
    "    \"\"\"\n",
    "    Function to return the dict with the sentiments\n",
    "    \"\"\"\n",
    "    vader_model = SentimentIntensityAnalyzer()\n",
    "    sentence = SlangTranslation(sentence).apply_translator(sentence)\n",
    "    sentiment_dict = vader_model.polarity_scores(sentence)\n",
    "    print(f'Sentence: \"{sentence}\"')\n",
    "    return sentiment_dict\n"
   ]
  }
 ],
 "metadata": {
  "kernelspec": {
   "display_name": "sentiment-tracker",
   "language": "python",
   "name": "python3"
  },
  "language_info": {
   "codemirror_mode": {
    "name": "ipython",
    "version": 3
   },
   "file_extension": ".py",
   "mimetype": "text/x-python",
   "name": "python",
   "nbconvert_exporter": "python",
   "pygments_lexer": "ipython3",
   "version": "3.10.6"
  }
 },
 "nbformat": 4,
 "nbformat_minor": 2
}
