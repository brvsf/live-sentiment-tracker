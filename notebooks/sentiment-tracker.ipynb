{
 "cells": [
  {
   "cell_type": "markdown",
   "metadata": {},
   "source": [
    "# Model"
   ]
  },
  {
   "cell_type": "code",
   "execution_count": 3,
   "metadata": {},
   "outputs": [],
   "source": [
    "from vaderSentiment.vaderSentiment import SentimentIntensityAnalyzer\n",
    "\n",
    "def vader(sentence):\n",
    "    \"\"\"\n",
    "    Function to print sentiment and return overall sentiment\n",
    "    \"\"\"\n",
    "    # Instanciating SentimentIntensityAnalyzer object\n",
    "    vader_model = SentimentIntensityAnalyzer()\n",
    "\n",
    "    # Creating sentiment dict from vader model\n",
    "    sentiment_dict = vader_model.polarity_scores(sentence)\n",
    "\n",
    "    # Printing sentiment percentage\n",
    "    print(f\"This sentence is: {sentiment_dict['pos']*100} % positive\")\n",
    "    print(f\"{sentiment_dict['neu']*100} % neutral\")\n",
    "    print(f\"{sentiment_dict['neg']*100} % negative\")\n",
    "\n",
    "    # Conditional to return overall sentiment of the sentence\n",
    "    if sentiment_dict['compound'] >= 0.05:\n",
    "        overall_sentiment = 'The overall sentiment is Positive 😊'\n",
    "        return overall_sentiment\n",
    "\n",
    "    if sentiment_dict['compound'] <= -0.05:\n",
    "        overall_sentiment = 'The overall sentiment is Negative 😔'\n",
    "        return overall_sentiment\n",
    "\n",
    "    else:\n",
    "        overall_sentiment = 'The overall sentiment is Neutral 😐'\n",
    "        return overall_sentiment"
   ]
  },
  {
   "cell_type": "code",
   "execution_count": 4,
   "metadata": {},
   "outputs": [
    {
     "name": "stdout",
     "output_type": "stream",
     "text": [
      "This sentence is: 0.0 % positive\n",
      "24.4 % neutral\n",
      "75.6 % negative\n",
      "The overall sentiment is Negative 😔\n"
     ]
    }
   ],
   "source": [
    "y_pred = vader(\"i'm sad\")"
   ]
  },
  {
   "cell_type": "code",
   "execution_count": null,
   "metadata": {},
   "outputs": [],
   "source": []
  }
 ],
 "metadata": {
  "kernelspec": {
   "display_name": "sentiment-tracker",
   "language": "python",
   "name": "python3"
  },
  "language_info": {
   "codemirror_mode": {
    "name": "ipython",
    "version": 3
   },
   "file_extension": ".py",
   "mimetype": "text/x-python",
   "name": "python",
   "nbconvert_exporter": "python",
   "pygments_lexer": "ipython3",
   "version": "3.10.6"
  }
 },
 "nbformat": 4,
 "nbformat_minor": 2
}
